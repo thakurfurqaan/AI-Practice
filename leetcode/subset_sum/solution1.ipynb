from itertools import combinations


extended_close_results = []

numbers = [
    453.82,
    460.00,
    913.20,
    120.00,
    150.00,
    99.29,
    220.25,
    33.20,
    41.51,
    95.00,
    26.00,
    26.00,
    76.38,
    58.98,
    201.00,
    191.81,
]
target_sum = 736.44
tolerance = 1.5


for i in range(1, len(numbers) + 1):
    for combo in combinations(numbers, i):
        current_sum = sum(combo)
        current_diff = abs(current_sum - target_sum)
        if current_diff <= tolerance:
            extended_close_results.append(
                (combo, round(current_sum, 2), round(current_diff, 2))
            )

print(extended_close_results)
