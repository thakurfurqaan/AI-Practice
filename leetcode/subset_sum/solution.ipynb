{
 "cells": [
  {
   "cell_type": "code",
   "execution_count": 11,
   "metadata": {},
   "outputs": [],
   "source": [
    "from itertools import combinations\n",
    "\n",
    "\n",
    "extended_close_results = []\n",
    "\n",
    "numbers = [\n",
    "    # 453.82,\n",
    "    # 460.00,\n",
    "    # 913.20,\n",
    "    # 120.00,\n",
    "    # 150.00,\n",
    "    # 99.29,\n",
    "    # 220.25,\n",
    "    33.20,\n",
    "    41.51,\n",
    "    95.00,\n",
    "    26.00,\n",
    "    26.00,\n",
    "    # 76.38,\n",
    "    # 58.98,\n",
    "    # 201.00,\n",
    "    # 191.81,\n",
    "]\n",
    "target_sum = 736.44 - 191.81 - 201.00 - 58.98 - 76.38\n",
    "tolerance = 5\n",
    "\n",
    "\n",
    "for i in range(1, len(numbers) + 1):\n",
    "    for combo in combinations(numbers, i):\n",
    "        current_sum = sum(combo)\n",
    "        current_diff = abs(current_sum - target_sum)\n",
    "        if current_diff <= tolerance:\n",
    "            extended_close_results.append(\n",
    "                (combo, round(current_sum, 2), round(current_diff, 2))\n",
    "            )\n",
    "\n",
    "print(target_sum)\n",
    "for result in extended_close_results:\n",
    "    print(result)\n"
   ]
  }
 ],
 "metadata": {
  "kernelspec": {
   "display_name": "venv",
   "language": "python",
   "name": "python3"
  },
  "language_info": {
   "codemirror_mode": {
    "name": "ipython",
    "version": 3
   },
   "file_extension": ".py",
   "mimetype": "text/x-python",
   "name": "python",
   "nbconvert_exporter": "python",
   "pygments_lexer": "ipython3",
   "version": "3.12.1"
  }
 },
 "nbformat": 4,
 "nbformat_minor": 2
}
