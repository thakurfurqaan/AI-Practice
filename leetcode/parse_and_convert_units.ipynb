{
 "cells": [
  {
   "cell_type": "code",
   "execution_count": 25,
   "metadata": {},
   "outputs": [],
   "source": [
    "from enum import Enum\n",
    "\n",
    "\n",
    "class Measures(Enum):\n",
    "    INCH = \"in\"\n",
    "    METRE = \"m\"\n",
    "    FEET = \"ft\"\n",
    "    MINUTE = \"min\"\n",
    "    HOUR = \"hr\"\n",
    "    SECOND = \"sec\"\n",
    "    \n",
    "    \n",
    "CONVERSION_RATES = {\n",
    "    (Measures.METRE, Measures.INCH): 3.28 * 12,\n",
    "    (Measures.FEET, Measures.INCH): 12,\n",
    "    (Measures.METRE, Measures.FEET): 3.28,\n",
    "    (Measures.HOUR, Measures.MINUTE): 60,\n",
    "    (Measures.MINUTE, Measures.SECOND): 60,\n",
    "    (Measures.HOUR, Measures.SECOND): 60 * 60\n",
    "}\n",
    "\n",
    "\n",
    "def convert(v, from_: Measures, to_: Measures):\n",
    "    if (from_, to_) not in CONVERSION_RATES and (to_, from_) not in CONVERSION_RATES:\n",
    "        return None\n",
    "    if (from_, to_) in CONVERSION_RATES:\n",
    "        return CONVERSION_RATES[(from_, to_)] * v\n",
    "    return 1/CONVERSION_RATES[(to_, from_)] * v"
   ]
  },
  {
   "cell_type": "code",
   "execution_count": 29,
   "metadata": {},
   "outputs": [],
   "source": [
    "assert convert(2, Measures.METRE, Measures.INCH) == 78.72\n",
    "assert round(convert(13, Measures.INCH, Measures.METRE), 3) == 0.330\n",
    "assert convert(13, Measures.INCH, Measures.HOUR) == None"
   ]
  },
  {
   "cell_type": "code",
   "execution_count": 20,
   "metadata": {},
   "outputs": [
    {
     "data": {
      "text/plain": [
       "39.36"
      ]
     },
     "execution_count": 20,
     "metadata": {},
     "output_type": "execute_result"
    }
   ],
   "source": [
    "CONVERSION_RATES[(Measures.METRE, Measures.INCH)]"
   ]
  },
  {
   "cell_type": "code",
   "execution_count": null,
   "metadata": {},
   "outputs": [],
   "source": [
    "FACTS = [\n",
    "    [Measures.FEET, Measures.INCH, 12],\n",
    "    [Measures.METRE, Measures.FEET, 3.28],\n",
    "    [Measures.HOUR, Measures.MINUTE, 60],\n",
    "    [Measures.MINUTE, Measures.SECOND, 60]\n",
    "]\n",
    "\n",
    "R = {}"
   ]
  },
  {
   "cell_type": "code",
   "execution_count": 74,
   "metadata": {},
   "outputs": [],
   "source": [
    "from typing import List, Dict, Set\n",
    "\n",
    "FACTS = [\n",
    "    (\"ft\", \"in\", 12),\n",
    "    (\"m\", \"ft\", 3.28),\n",
    "    (\"hr\", \"min\", 60),\n",
    "    (\"min\", \"sec\", 60)\n",
    "]\n",
    "class Node:\n",
    "    \n",
    "    def __init__(self, unit: str):\n",
    "        self.unit: str = unit\n",
    "        self.edges: List['Edge'] = []\n",
    "        \n",
    "    def add_edge(self, edge: 'Edge') -> None:\n",
    "        self.edges.append(edge)\n",
    "        \n",
    "    def __str__(self):\n",
    "        return f\"{self.unit} {self.edges}\"\n",
    "    \n",
    "    def __repr__(self):\n",
    "        return f\"{self.unit} {self.edges}\"\n",
    "    \n",
    "        \n",
    "class Edge:\n",
    "    \n",
    "    def __init__(self, v: float, to_node: 'Node'):\n",
    "        self.value: float = v\n",
    "        self.to_node: 'Node' = to_node\n",
    "        \n",
    "    def __str__(self):\n",
    "        return f\"{self.value} - {self.to_node}\"\n",
    "    \n",
    "    def __repr__(self):\n",
    "        return f\"{self.value} - {self.to_node}\"\n",
    "\n",
    "R: dict[str, Node] = {}\n",
    "\n",
    "def parse_facts(facts):\n",
    "\n",
    "    for from_, to_, r in facts:\n",
    "        \n",
    "        if from_ not in R:\n",
    "            R[from_] = Node(from_)\n",
    "        from_node = R[from_]\n",
    "        \n",
    "        if to_ not in R:\n",
    "            R[to_] = Node(to_)\n",
    "        to_node = R[to_]\n",
    "        \n",
    "        from_node.add_edge(Edge(r, to_node))\n",
    "        to_node.add_edge(Edge(1/r, from_node))\n",
    "        \n",
    "def solve(v, from_node: Node, to_node: Node, visited: Set):\n",
    "    \n",
    "    if from_node in visited:\n",
    "        return None\n",
    "    \n",
    "    new_visited = set(list(visited) + [from_node])\n",
    "\n",
    "    for edge in from_node.edges:\n",
    "        if edge.to_node == to_node:\n",
    "            return v * edge.value\n",
    "        s = solve(v * edge.value, edge.to_node, to_node, new_visited)\n",
    "        if s:\n",
    "            return s\n",
    "    return None\n",
    "        \n",
    "\n",
    "def answer(v, from_, to_):\n",
    "    parse_facts(FACTS)\n",
    "    if from_ not in R:\n",
    "        return None\n",
    "    \n",
    "    if to_ not in R:\n",
    "        return None\n",
    "    \n",
    "    from_node = R[from_]\n",
    "    to_node = R[to_]\n",
    "    return solve(v, from_node, to_node, set())\n",
    "\n",
    "        "
   ]
  },
  {
   "cell_type": "code",
   "execution_count": 75,
   "metadata": {},
   "outputs": [
    {
     "name": "stdout",
     "output_type": "stream",
     "text": [
      "ft ft [12 - in [0.08333333333333333 - ft [...]], 0.3048780487804878 - m [3.28 - ft [...]]]\n",
      "in in [0.08333333333333333 - ft [12 - in [...], 0.3048780487804878 - m [3.28 - ft [...]]]]\n",
      "m m [3.28 - ft [12 - in [0.08333333333333333 - ft [...]], 0.3048780487804878 - m [...]]]\n",
      "hr hr [60 - min [0.016666666666666666 - hr [...], 60 - sec [0.016666666666666666 - min [...]]]]\n",
      "min min [0.016666666666666666 - hr [60 - min [...]], 60 - sec [0.016666666666666666 - min [...]]]\n",
      "sec sec [0.016666666666666666 - min [0.016666666666666666 - hr [60 - min [...]], 60 - sec [...]]]\n",
      "ft ft [12 - in [0.08333333333333333 - ft [...], 0.08333333333333333 - ft [...]], 0.3048780487804878 - m [3.28 - ft [...], 3.28 - ft [...]], 12 - in [0.08333333333333333 - ft [...], 0.08333333333333333 - ft [...]], 0.3048780487804878 - m [3.28 - ft [...], 3.28 - ft [...]]]\n",
      "in in [0.08333333333333333 - ft [12 - in [...], 0.3048780487804878 - m [3.28 - ft [...], 3.28 - ft [...]], 12 - in [...], 0.3048780487804878 - m [3.28 - ft [...], 3.28 - ft [...]]], 0.08333333333333333 - ft [12 - in [...], 0.3048780487804878 - m [3.28 - ft [...], 3.28 - ft [...]], 12 - in [...], 0.3048780487804878 - m [3.28 - ft [...], 3.28 - ft [...]]]]\n",
      "m m [3.28 - ft [12 - in [0.08333333333333333 - ft [...], 0.08333333333333333 - ft [...]], 0.3048780487804878 - m [...], 12 - in [0.08333333333333333 - ft [...], 0.08333333333333333 - ft [...]], 0.3048780487804878 - m [...]], 3.28 - ft [12 - in [0.08333333333333333 - ft [...], 0.08333333333333333 - ft [...]], 0.3048780487804878 - m [...], 12 - in [0.08333333333333333 - ft [...], 0.08333333333333333 - ft [...]], 0.3048780487804878 - m [...]]]\n",
      "hr hr [60 - min [0.016666666666666666 - hr [...], 60 - sec [0.016666666666666666 - min [...], 0.016666666666666666 - min [...]], 0.016666666666666666 - hr [...], 60 - sec [0.016666666666666666 - min [...], 0.016666666666666666 - min [...]]], 60 - min [0.016666666666666666 - hr [...], 60 - sec [0.016666666666666666 - min [...], 0.016666666666666666 - min [...]], 0.016666666666666666 - hr [...], 60 - sec [0.016666666666666666 - min [...], 0.016666666666666666 - min [...]]]]\n",
      "min min [0.016666666666666666 - hr [60 - min [...], 60 - min [...]], 60 - sec [0.016666666666666666 - min [...], 0.016666666666666666 - min [...]], 0.016666666666666666 - hr [60 - min [...], 60 - min [...]], 60 - sec [0.016666666666666666 - min [...], 0.016666666666666666 - min [...]]]\n",
      "sec sec [0.016666666666666666 - min [0.016666666666666666 - hr [60 - min [...], 60 - min [...]], 60 - sec [...], 0.016666666666666666 - hr [60 - min [...], 60 - min [...]], 60 - sec [...]], 0.016666666666666666 - min [0.016666666666666666 - hr [60 - min [...], 60 - min [...]], 60 - sec [...], 0.016666666666666666 - hr [60 - min [...], 60 - min [...]], 60 - sec [...]]]\n",
      "ft ft [12 - in [0.08333333333333333 - ft [...], 0.08333333333333333 - ft [...], 0.08333333333333333 - ft [...]], 0.3048780487804878 - m [3.28 - ft [...], 3.28 - ft [...], 3.28 - ft [...]], 12 - in [0.08333333333333333 - ft [...], 0.08333333333333333 - ft [...], 0.08333333333333333 - ft [...]], 0.3048780487804878 - m [3.28 - ft [...], 3.28 - ft [...], 3.28 - ft [...]], 12 - in [0.08333333333333333 - ft [...], 0.08333333333333333 - ft [...], 0.08333333333333333 - ft [...]], 0.3048780487804878 - m [3.28 - ft [...], 3.28 - ft [...], 3.28 - ft [...]]]\n",
      "in in [0.08333333333333333 - ft [12 - in [...], 0.3048780487804878 - m [3.28 - ft [...], 3.28 - ft [...], 3.28 - ft [...]], 12 - in [...], 0.3048780487804878 - m [3.28 - ft [...], 3.28 - ft [...], 3.28 - ft [...]], 12 - in [...], 0.3048780487804878 - m [3.28 - ft [...], 3.28 - ft [...], 3.28 - ft [...]]], 0.08333333333333333 - ft [12 - in [...], 0.3048780487804878 - m [3.28 - ft [...], 3.28 - ft [...], 3.28 - ft [...]], 12 - in [...], 0.3048780487804878 - m [3.28 - ft [...], 3.28 - ft [...], 3.28 - ft [...]], 12 - in [...], 0.3048780487804878 - m [3.28 - ft [...], 3.28 - ft [...], 3.28 - ft [...]]], 0.08333333333333333 - ft [12 - in [...], 0.3048780487804878 - m [3.28 - ft [...], 3.28 - ft [...], 3.28 - ft [...]], 12 - in [...], 0.3048780487804878 - m [3.28 - ft [...], 3.28 - ft [...], 3.28 - ft [...]], 12 - in [...], 0.3048780487804878 - m [3.28 - ft [...], 3.28 - ft [...], 3.28 - ft [...]]]]\n",
      "m m [3.28 - ft [12 - in [0.08333333333333333 - ft [...], 0.08333333333333333 - ft [...], 0.08333333333333333 - ft [...]], 0.3048780487804878 - m [...], 12 - in [0.08333333333333333 - ft [...], 0.08333333333333333 - ft [...], 0.08333333333333333 - ft [...]], 0.3048780487804878 - m [...], 12 - in [0.08333333333333333 - ft [...], 0.08333333333333333 - ft [...], 0.08333333333333333 - ft [...]], 0.3048780487804878 - m [...]], 3.28 - ft [12 - in [0.08333333333333333 - ft [...], 0.08333333333333333 - ft [...], 0.08333333333333333 - ft [...]], 0.3048780487804878 - m [...], 12 - in [0.08333333333333333 - ft [...], 0.08333333333333333 - ft [...], 0.08333333333333333 - ft [...]], 0.3048780487804878 - m [...], 12 - in [0.08333333333333333 - ft [...], 0.08333333333333333 - ft [...], 0.08333333333333333 - ft [...]], 0.3048780487804878 - m [...]], 3.28 - ft [12 - in [0.08333333333333333 - ft [...], 0.08333333333333333 - ft [...], 0.08333333333333333 - ft [...]], 0.3048780487804878 - m [...], 12 - in [0.08333333333333333 - ft [...], 0.08333333333333333 - ft [...], 0.08333333333333333 - ft [...]], 0.3048780487804878 - m [...], 12 - in [0.08333333333333333 - ft [...], 0.08333333333333333 - ft [...], 0.08333333333333333 - ft [...]], 0.3048780487804878 - m [...]]]\n",
      "hr hr [60 - min [0.016666666666666666 - hr [...], 60 - sec [0.016666666666666666 - min [...], 0.016666666666666666 - min [...], 0.016666666666666666 - min [...]], 0.016666666666666666 - hr [...], 60 - sec [0.016666666666666666 - min [...], 0.016666666666666666 - min [...], 0.016666666666666666 - min [...]], 0.016666666666666666 - hr [...], 60 - sec [0.016666666666666666 - min [...], 0.016666666666666666 - min [...], 0.016666666666666666 - min [...]]], 60 - min [0.016666666666666666 - hr [...], 60 - sec [0.016666666666666666 - min [...], 0.016666666666666666 - min [...], 0.016666666666666666 - min [...]], 0.016666666666666666 - hr [...], 60 - sec [0.016666666666666666 - min [...], 0.016666666666666666 - min [...], 0.016666666666666666 - min [...]], 0.016666666666666666 - hr [...], 60 - sec [0.016666666666666666 - min [...], 0.016666666666666666 - min [...], 0.016666666666666666 - min [...]]], 60 - min [0.016666666666666666 - hr [...], 60 - sec [0.016666666666666666 - min [...], 0.016666666666666666 - min [...], 0.016666666666666666 - min [...]], 0.016666666666666666 - hr [...], 60 - sec [0.016666666666666666 - min [...], 0.016666666666666666 - min [...], 0.016666666666666666 - min [...]], 0.016666666666666666 - hr [...], 60 - sec [0.016666666666666666 - min [...], 0.016666666666666666 - min [...], 0.016666666666666666 - min [...]]]]\n",
      "min min [0.016666666666666666 - hr [60 - min [...], 60 - min [...], 60 - min [...]], 60 - sec [0.016666666666666666 - min [...], 0.016666666666666666 - min [...], 0.016666666666666666 - min [...]], 0.016666666666666666 - hr [60 - min [...], 60 - min [...], 60 - min [...]], 60 - sec [0.016666666666666666 - min [...], 0.016666666666666666 - min [...], 0.016666666666666666 - min [...]], 0.016666666666666666 - hr [60 - min [...], 60 - min [...], 60 - min [...]], 60 - sec [0.016666666666666666 - min [...], 0.016666666666666666 - min [...], 0.016666666666666666 - min [...]]]\n",
      "sec sec [0.016666666666666666 - min [0.016666666666666666 - hr [60 - min [...], 60 - min [...], 60 - min [...]], 60 - sec [...], 0.016666666666666666 - hr [60 - min [...], 60 - min [...], 60 - min [...]], 60 - sec [...], 0.016666666666666666 - hr [60 - min [...], 60 - min [...], 60 - min [...]], 60 - sec [...]], 0.016666666666666666 - min [0.016666666666666666 - hr [60 - min [...], 60 - min [...], 60 - min [...]], 60 - sec [...], 0.016666666666666666 - hr [60 - min [...], 60 - min [...], 60 - min [...]], 60 - sec [...], 0.016666666666666666 - hr [60 - min [...], 60 - min [...], 60 - min [...]], 60 - sec [...]], 0.016666666666666666 - min [0.016666666666666666 - hr [60 - min [...], 60 - min [...], 60 - min [...]], 60 - sec [...], 0.016666666666666666 - hr [60 - min [...], 60 - min [...], 60 - min [...]], 60 - sec [...], 0.016666666666666666 - hr [60 - min [...], 60 - min [...], 60 - min [...]], 60 - sec [...]]]\n"
     ]
    }
   ],
   "source": [
    "assert answer(1, \"m\", \"ft\") == 3.28, answer(1, \"m\", \"ft\")\n",
    "assert answer(2, \"m\", \"in\") == 78.72, answer(2, \"m\", \"in\")\n",
    "assert round(answer(13, \"in\", \"m\"), 3) == 0.330\n",
    "assert convert(13, \"in\", \"hr\") == None"
   ]
  },
  {
   "cell_type": "code",
   "execution_count": null,
   "metadata": {},
   "outputs": [],
   "source": []
  }
 ],
 "metadata": {
  "kernelspec": {
   "display_name": "venv",
   "language": "python",
   "name": "python3"
  },
  "language_info": {
   "codemirror_mode": {
    "name": "ipython",
    "version": 3
   },
   "file_extension": ".py",
   "mimetype": "text/x-python",
   "name": "python",
   "nbconvert_exporter": "python",
   "pygments_lexer": "ipython3",
   "version": "3.12.5"
  }
 },
 "nbformat": 4,
 "nbformat_minor": 2
}
