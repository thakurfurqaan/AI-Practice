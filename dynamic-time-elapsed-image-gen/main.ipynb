{
 "cells": [
  {
   "cell_type": "code",
   "execution_count": 11,
   "metadata": {},
   "outputs": [
    {
     "name": "stdout",
     "output_type": "stream",
     "text": [
      "Image saved as elapsed_time.png\n"
     ]
    },
    {
     "data": {
      "image/jpeg": "[encoded data removed]",
      "image/png": "[encoded data removed]",
      "text/plain": [
       "<PIL.Image.Image image mode=RGB size=200x50>"
      ]
     },
     "metadata": {},
     "output_type": "display_data"
    }
   ],
   "source": [
    "from PIL import Image, ImageDraw, ImageFont\n",
    "from datetime import datetime\n",
    "\n",
    "def create_time_image(start_timestamp, save_path=\"timestamp.png\"):\n",
    "    # Create a new image with a white background\n",
    "    img = Image.new('RGB', (400, 100), color='white')\n",
    "    draw = ImageDraw.Draw(img)\n",
    "    \n",
    "    # Calculate time difference\n",
    "    start_time = datetime.fromisoformat(start_timestamp)\n",
    "    current_time = datetime.now()\n",
    "    diff = current_time - start_time\n",
    "    \n",
    "    # Calculate different units\n",
    "    days = diff.days\n",
    "    hours = diff.seconds // 3600\n",
    "    minutes = (diff.seconds % 3600) // 60\n",
    "    \n",
    "    # Create the time string\n",
    "    if days > 0:\n",
    "        time_text = f\"{days} days, {hours} hours ago\"\n",
    "    elif hours > 0:\n",
    "        time_text = f\"{hours} hours, {minutes} minutes ago\"\n",
    "    else:\n",
    "        time_text = f\"{minutes} minutes ago\"\n",
    "    \n",
    "    # Use default font\n",
    "    font = ImageFont.load_default()\n",
    "    \n",
    "    # Center the text\n",
    "    text_bbox = draw.textbbox((0, 0), time_text, font=font)\n",
    "    text_width = text_bbox[2] - text_bbox[0]\n",
    "    text_height = text_bbox[3] - text_bbox[1]\n",
    "    \n",
    "    x = (400 - text_width) / 2\n",
    "    y = (100 - text_height) / 2\n",
    "    \n",
    "    # Add text to image\n",
    "    draw.text((x, y), time_text, font=font, fill='black')\n",
    "    \n",
    "    # Save the image\n",
    "    img.save(save_path)\n",
    "    print(f\"Image saved as {save_path}\")\n",
    "    return img\n",
    "\n",
    "# Test the function\n",
    "if __name__ == \"__main__\":\n",
    "    # Use a timestamp from a few hours ago\n",
    "    timestamp = \"2024-10-30T09:00:00\"\n",
    "    image = create_time_image(timestamp, \"elapsed_time.png\")\n",
    "    \n",
    "    # If you're in Colab, you can also display the image\n",
    "    try:\n",
    "        from IPython.display import display\n",
    "        display(image)\n",
    "    except ImportError:\n",
    "        print(\"Image created successfully! Check elapsed_time.png\")"
   ]
  },
  {
   "cell_type": "code",
   "execution_count": 13,
   "metadata": {},
   "outputs": [
    {
     "name": "stdout",
     "output_type": "stream",
     "text": [
      "Image saved as elapsed_time.png\n"
     ]
    },
    {
     "data": {
      "image/jpeg": "[encoded data removed]",
      "image/png": "[encoded data removed]",
      "text/plain": [
       "<PIL.Image.Image image mode=RGB size=75x20>"
      ]
     },
     "metadata": {},
     "output_type": "display_data"
    }
   ],
   "source": [
    "from PIL import Image, ImageDraw, ImageFont\n",
    "from datetime import datetime\n",
    "\n",
    "def create_time_image(start_timestamp, save_path=\"timestamp.png\", padding=5):\n",
    "    # Use default font\n",
    "    font = ImageFont.load_default()\n",
    "    \n",
    "    # Calculate time difference\n",
    "    start_time = datetime.fromisoformat(start_timestamp)\n",
    "    current_time = datetime.now()\n",
    "    diff = current_time - start_time\n",
    "    \n",
    "    # Calculate different units\n",
    "    days = diff.days\n",
    "    hours = diff.seconds // 3600\n",
    "    minutes = (diff.seconds % 3600) // 60\n",
    "    \n",
    "    # Create the time string\n",
    "    if days > 0:\n",
    "        time_text = f\"{days} days, {hours} hours ago\"\n",
    "    elif hours > 0:\n",
    "        time_text = f\"{hours} hours, {minutes} minutes ago\"\n",
    "    else:\n",
    "        time_text = f\"{minutes} minutes ago\"\n",
    "    \n",
    "    # Get text size\n",
    "    dummy_draw = ImageDraw.Draw(Image.new('RGB', (1, 1)))\n",
    "    text_bbox = dummy_draw.textbbox((0, 0), time_text, font=font)\n",
    "    text_width = text_bbox[2] - text_bbox[0]\n",
    "    text_height = text_bbox[3] - text_bbox[1]\n",
    "    \n",
    "    # Create image with exact size plus minimal padding\n",
    "    img_width = text_width + (padding * 2)\n",
    "    img_height = text_height + (padding * 2)\n",
    "    img = Image.new('RGB', (img_width, img_height), color='white')\n",
    "    draw = ImageDraw.Draw(img)\n",
    "    \n",
    "    # Draw text with minimal padding\n",
    "    draw.text((padding, padding), time_text, font=font, fill='black')\n",
    "    \n",
    "    # Save the image\n",
    "    img.save(save_path)\n",
    "    print(f\"Image saved as {save_path}\")\n",
    "    return img\n",
    "\n",
    "# Test the function\n",
    "if __name__ == \"__main__\":\n",
    "    # Use a timestamp from a few hours ago\n",
    "    timestamp = \"2024-10-30T10:00:00\"\n",
    "    image = create_time_image(timestamp, \"elapsed_time.png\")\n",
    "    \n",
    "    # If you're in Colab, you can also display the image\n",
    "    try:\n",
    "        from IPython.display import display\n",
    "        display(image)\n",
    "    except ImportError:\n",
    "        print(\"Image created successfully! Check elapsed_time.png\")"
   ]
  },
  {
   "cell_type": "code",
   "execution_count": 2,
   "metadata": {},
   "outputs": [
    {
     "name": "stdout",
     "output_type": "stream",
     "text": [
      "2024-11-06%2B18%3A29%3A05.662697%2B00%3A00\n"
     ]
    }
   ],
   "source": [
    "from urllib.parse import quote\n",
    "\n",
    "timestamp = quote(\"2024-11-06+18:29:05.662697+00:00\")\n",
    "print(timestamp)\n"
   ]
  },
  {
   "cell_type": "code",
   "execution_count": 16,
   "metadata": {},
   "outputs": [
    {
     "data": {
      "image/svg+xml": [
       "<svg xmlns=\"http://www.w3.org/2000/svg\" width=\"204\" height=\"32\">\n",
       "    <style>\n",
       "        .container {\n",
       "            display: inline-block;\n",
       "            padding: 6px 10px;\n",
       "            background-color: white;\n",
       "            filter: drop-shadow(0 1px 2px rgb(0 0 0 / 0.1));\n",
       "        }\n",
       "        .timeText {\n",
       "            font-family: -apple-system, BlinkMacSystemFont, 'Segoe UI', Roboto, Oxygen,\n",
       "                        Ubuntu, Cantarell, 'Open Sans', 'Helvetica Neue', sans-serif;\n",
       "            font-size: 14px;\n",
       "            fill: #1a1a1a;\n",
       "            dominant-baseline: central;\n",
       "        }\n",
       "    </style>\n",
       "    <rect width=\"100%\" height=\"100%\" rx=\"4\" fill=\"white\"/>\n",
       "    <text x=\"10\" y=\"16\" class=\"timeText\">20 hours, 6 minutes ago</text>\n",
       "</svg>"
      ],
      "text/plain": [
       "<IPython.core.display.SVG object>"
      ]
     },
     "metadata": {},
     "output_type": "display_data"
    },
    {
     "name": "stdout",
     "output_type": "stream",
     "text": [
      "<?xml version=\"1.0\" encoding=\"UTF-8\"?>\n",
      "<svg xmlns=\"http://www.w3.org/2000/svg\" width=\"204\" height=\"32\">\n",
      "    <style>\n",
      "        .container {\n",
      "            display: inline-block;\n",
      "            padding: 6px 10px;\n",
      "            background-color: white;\n",
      "            filter: drop-shadow(0 1px 2px rgb(0 0 0 / 0.1));\n",
      "        }\n",
      "        .timeText {\n",
      "            font-family: -apple-system, BlinkMacSystemFont, 'Segoe UI', Roboto, Oxygen,\n",
      "                        Ubuntu, Cantarell, 'Open Sans', 'Helvetica Neue', sans-serif;\n",
      "            font-size: 14px;\n",
      "            fill: #1a1a1a;\n",
      "            dominant-baseline: central;\n",
      "        }\n",
      "    </style>\n",
      "    <rect width=\"100%\" height=\"100%\" rx=\"4\" fill=\"white\"/>\n",
      "    <text x=\"10\" y=\"16\" class=\"timeText\">20 hours, 6 minutes ago</text>\n",
      "</svg>\n"
     ]
    }
   ],
   "source": [
    "from datetime import datetime\n",
    "import pytz\n",
    "from IPython.display import SVG, display\n",
    "import re\n",
    "\n",
    "class TimeElapsedSVG:\n",
    "    def __init__(self, start_timestamp):\n",
    "        self.start_timestamp = start_timestamp\n",
    "\n",
    "    def _get_time_units(self):\n",
    "        \"\"\"Calculate time units and return display text\"\"\"\n",
    "        start_time = datetime.fromisoformat(self.start_timestamp)\n",
    "        current_time = datetime.now(pytz.UTC)\n",
    "        diff = current_time - start_time\n",
    "\n",
    "        days = diff.days\n",
    "        hours = diff.seconds // 3600\n",
    "        minutes = (diff.seconds % 3600) // 60\n",
    "\n",
    "        if days > 0:\n",
    "            return f\"{days} days, {hours} hours ago\"\n",
    "        elif hours > 0:\n",
    "            return f\"{hours} hours, {minutes} minutes ago\"\n",
    "        else:\n",
    "            return f\"{minutes} minutes ago\"\n",
    "\n",
    "    def create_svg(self):\n",
    "        \"\"\"Create an SVG with the time elapsed text\"\"\"\n",
    "        time_text = self._get_time_units()\n",
    "        \n",
    "        # Calculate approximate width based on text length\n",
    "        # Rough estimate: each character is about 8px wide\n",
    "        text_width = len(time_text) * 8\n",
    "        total_width = text_width + 20  # Add padding\n",
    "        \n",
    "        svg_content = f'''<?xml version=\"1.0\" encoding=\"UTF-8\"?>\n",
    "<svg xmlns=\"http://www.w3.org/2000/svg\" width=\"{total_width}\" height=\"32\">\n",
    "    <style>\n",
    "        .container {{\n",
    "            display: inline-block;\n",
    "            padding: 6px 10px;\n",
    "            background-color: white;\n",
    "            filter: drop-shadow(0 1px 2px rgb(0 0 0 / 0.1));\n",
    "        }}\n",
    "        .timeText {{\n",
    "            font-family: -apple-system, BlinkMacSystemFont, 'Segoe UI', Roboto, Oxygen,\n",
    "                        Ubuntu, Cantarell, 'Open Sans', 'Helvetica Neue', sans-serif;\n",
    "            font-size: 14px;\n",
    "            fill: #1a1a1a;\n",
    "            dominant-baseline: central;\n",
    "        }}\n",
    "    </style>\n",
    "    <rect width=\"100%\" height=\"100%\" rx=\"4\" fill=\"white\"/>\n",
    "    <text x=\"10\" y=\"16\" class=\"timeText\">{time_text}</text>\n",
    "</svg>'''\n",
    "        \n",
    "        return svg_content\n",
    "\n",
    "    def display(self):\n",
    "        \"\"\"Display the SVG in Jupyter notebook\"\"\"\n",
    "        svg_content = self.create_svg()\n",
    "        display(SVG(svg_content))\n",
    "\n",
    "# Example usage (copy this to a new cell to test):\n",
    "timestamp = \"2024-10-30T15:00:00+00:00\"\n",
    "svg_creator = TimeElapsedSVG(timestamp)\n",
    "svg_creator.display()\n",
    "\n",
    "# If you want to see the raw SVG code:\n",
    "print(svg_creator.create_svg())"
   ]
  }
 ],
 "metadata": {
  "kernelspec": {
   "display_name": "venv",
   "language": "python",
   "name": "python3"
  },
  "language_info": {
   "codemirror_mode": {
    "name": "ipython",
    "version": 3
   },
   "file_extension": ".py",
   "mimetype": "text/x-python",
   "name": "python",
   "nbconvert_exporter": "python",
   "pygments_lexer": "ipython3",
   "version": "3.12.5"
  }
 },
 "nbformat": 4,
 "nbformat_minor": 2
}
