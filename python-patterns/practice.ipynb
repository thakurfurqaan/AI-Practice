{
 "cells": [
  {
   "cell_type": "code",
   "execution_count": 2,
   "metadata": {},
   "outputs": [
    {
     "name": "stdout",
     "output_type": "stream",
     "text": [
      "{'database': 'mysql', 'timeout': 30, 'retry_attempts': 3}\n"
     ]
    }
   ],
   "source": [
    "import json\n",
    "\n",
    "\n",
    "class ConfigurationManager:\n",
    "    \n",
    "    _instance = None\n",
    "    _config = None\n",
    "    \n",
    "    def __new__(cls, *args, **kwargs):\n",
    "        if not cls._instance:\n",
    "            cls._instance = super(ConfigurationManager, cls).__new__(cls)\n",
    "            cls._instance._config = None\n",
    "        return cls._instance\n",
    "    \n",
    "    def _load_config(self):\n",
    "        with open(\"config.json\", \"r\") as file:\n",
    "            return json.load(file)\n",
    "        \n",
    "    def get_config(self):\n",
    "        if self._config is None:\n",
    "            self._config = self._load_config()\n",
    "        return self._config\n",
    "    \n",
    "config_manager = ConfigurationManager()\n",
    "print(config_manager.get_config())"
   ]
  },
  {
   "cell_type": "code",
   "execution_count": null,
   "metadata": {},
   "outputs": [],
   "source": [
    "class Logger:\n",
    "    \n",
    "    def log(self,):\n",
    "        pass\n",
    "    \n",
    "class ConsoleLogger(Logger):\n",
    "    \n",
    "    def log(self, text):\n",
    "        pass\n",
    "    \n",
    "class FileLogger(Logger):\n",
    "    \n",
    "    def log(self, text):\n",
    "        pass\n",
    "\n",
    "def LoggerFactory(destination: str):\n",
    "    \n",
    "    destination_map = {\n",
    "        \"console\": ConsoleLogger\n",
    "    }\n",
    "    \n",
    "    if destination not in destination_map:\n",
    "        raise Exception(f\"{destination} is not a supported logging destination.\")\n",
    "    \n",
    "    return destination_map[destination]()\n",
    "    \n",
    "    "
   ]
  },
  {
   "cell_type": "code",
   "execution_count": 3,
   "metadata": {},
   "outputs": [
    {
     "ename": "SyntaxError",
     "evalue": "incomplete input (4127427072.py, line 37)",
     "output_type": "error",
     "traceback": [
      "\u001b[0;36m  Cell \u001b[0;32mIn[3], line 37\u001b[0;36m\u001b[0m\n\u001b[0;31m    \u001b[0m\n\u001b[0m    ^\u001b[0m\n\u001b[0;31mSyntaxError\u001b[0m\u001b[0;31m:\u001b[0m incomplete input\n"
     ]
    }
   ],
   "source": [
    "class Meal:\n",
    "    \n",
    "    def __init__(self, main_dish, side_dish, drink, dessert):\n",
    "        self.main_dish = main_dish\n",
    "        self.side_dish = side_dish\n",
    "        self.drink = drink\n",
    "        self.dessert = dessert\n",
    "    \n",
    "    \n",
    "class MealBuilder:\n",
    "    \n",
    "    def __init__(self):\n",
    "        self.main_dish = None\n",
    "        self.side_dish = None\n",
    "        self.drink = None\n",
    "        self.dessert = None\n",
    "        \n",
    "    \n",
    "    def set_main_dish(self, main_dish):\n",
    "        self.main_dish = main_dish\n",
    "        \n",
    "    def set_side_dish(self, side_dish):\n",
    "        self.side_dish = side_dish\n",
    "        \n",
    "    def set_drink(self, drink):\n",
    "        self.drink = drink\n",
    "        \n",
    "    def set_dessert(self, dessert):\n",
    "        self.dessert = dessert\n",
    "        \n",
    "    def build(self):\n",
    "        return Meal(\n",
    "            self.main_dish,\n",
    "            self.side_dish,\n",
    "            self.drink,\n",
    "            self.dessert\n",
    "        )\n",
    "    \n",
    "        \n",
    "\n",
    "sudo docker run -d --name vaultwarden --restart always -v /opt/vaultwarden/data:/data/ -e DOMAIN=https://vault.furqaanthakur.com -e ADMIN_TOKEN='$argon2id$v=19$m=65540,t=3,p=4$WllKaUlWSGM3dW1TVEhxSHBQVFBUbU9NUkpHTk1DVGxrRHlQSFNXRDV5Yz0$O37dj9iWxuiyVFKHy8cMDrs0j9H7Pf8vsPJewROpySo' -e SIGNUPS_ALLOWED=false -p 8080:80 vaultwarden/server:latest\n",
    "        \n",
    "    \n",
    "    \n",
    "# Domain Configuration\n",
    "DOMAIN=https://vault.furqaanthakur.com\n",
    "\n",
    "# Admin Settings\n",
    "ADMIN_TOKEN=$argon2id$v=19$m=65540,t=3,p=4$WGRYNC9QQ0l2Y1drR3QrMDZnYnNkSXA0dERJRjVRTGJPRVYyVkp5RkREWT0$2ECSdEUKUvr9IcvxwOfuJSFIV4WvPkOhoWNDFLIezg4\n",
    "SIGNUPS_ALLOWED=false\n",
    "ADMIN_SESSION_LIFETIME=20\n",
    "\n",
    "# Security Settings\n",
    "LOGIN_ATTEMPTS=3\n",
    "DISABLE_ADMIN_TOKEN=false\n",
    "\n",
    "# SMTP Settings (if you want email)\n",
    "# SMTP_HOST=smtp.gmail.com\n",
    "# SMTP_FROM=your-email@gmail.com\n",
    "# SMTP_PORT=587\n",
    "# SMTP_SSL=true\n",
    "# SMTP_USERNAME=your-email@gmail.com\n",
    "# SMTP_PASSWORD=your-app-password\n",
    "\n",
    "# Additional Security\n",
    "HIBP_API_KEY=           # Optional: HaveIBeenPwned API key\n",
    "ENABLE_DB_WAL=true      # Better DB performance\n",
    "WEB_VAULT_ENABLED=true\n",
    "    "
   ]
  },
  {
   "cell_type": "code",
   "execution_count": null,
   "metadata": {},
   "outputs": [],
   "source": []
  }
 ],
 "metadata": {
  "kernelspec": {
   "display_name": "venv",
   "language": "python",
   "name": "python3"
  },
  "language_info": {
   "codemirror_mode": {
    "name": "ipython",
    "version": 3
   },
   "file_extension": ".py",
   "mimetype": "text/x-python",
   "name": "python",
   "nbconvert_exporter": "python",
   "pygments_lexer": "ipython3",
   "version": "3.12.5"
  }
 },
 "nbformat": 4,
 "nbformat_minor": 2
}
