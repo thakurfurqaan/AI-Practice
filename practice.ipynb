{
 "cells": [
  {
   "cell_type": "code",
   "execution_count": 25,
   "metadata": {},
   "outputs": [],
   "source": [
    "from enum import Enum\n",
    "\n",
    "\n",
    "class Measures(Enum):\n",
    "    INCH = \"in\"\n",
    "    METRE = \"m\"\n",
    "    FEET = \"ft\"\n",
    "    MINUTE = \"min\"\n",
    "    HOUR = \"hr\"\n",
    "    SECOND = \"sec\"\n",
    "    \n",
    "    \n",
    "CONVERSION_RATES = {\n",
    "    (Measures.METRE, Measures.INCH): 3.28 * 12,\n",
    "    (Measures.FEET, Measures.INCH): 12,\n",
    "    (Measures.METRE, Measures.FEET): 3.28,\n",
    "    (Measures.HOUR, Measures.MINUTE): 60,\n",
    "    (Measures.MINUTE, Measures.SECOND): 60,\n",
    "    (Measures.HOUR, Measures.SECOND): 60 * 60\n",
    "}\n",
    "\n",
    "\n",
    "def convert(v, from_: Measures, to_: Measures):\n",
    "    if (from_, to_) not in CONVERSION_RATES and (to_, from_) not in CONVERSION_RATES:\n",
    "        return None\n",
    "    if (from_, to_) in CONVERSION_RATES:\n",
    "        return CONVERSION_RATES[(from_, to_)] * v\n",
    "    return 1/CONVERSION_RATES[(to_, from_)] * v"
   ]
  },
  {
   "cell_type": "code",
   "execution_count": 29,
   "metadata": {},
   "outputs": [],
   "source": [
    "assert convert(2, Measures.METRE, Measures.INCH) == 78.72\n",
    "assert round(convert(13, Measures.INCH, Measures.METRE), 3) == 0.330\n",
    "assert convert(13, Measures.INCH, Measures.HOUR) == None"
   ]
  },
  {
   "cell_type": "code",
   "execution_count": 20,
   "metadata": {},
   "outputs": [
    {
     "data": {
      "text/plain": [
       "39.36"
      ]
     },
     "execution_count": 20,
     "metadata": {},
     "output_type": "execute_result"
    }
   ],
   "source": [
    "CONVERSION_RATES[(Measures.METRE, Measures.INCH)]"
   ]
  }
 ],
 "metadata": {
  "kernelspec": {
   "display_name": "venv",
   "language": "python",
   "name": "python3"
  },
  "language_info": {
   "codemirror_mode": {
    "name": "ipython",
    "version": 3
   },
   "file_extension": ".py",
   "mimetype": "text/x-python",
   "name": "python",
   "nbconvert_exporter": "python",
   "pygments_lexer": "ipython3",
   "version": "3.12.5"
  }
 },
 "nbformat": 4,
 "nbformat_minor": 2
}
